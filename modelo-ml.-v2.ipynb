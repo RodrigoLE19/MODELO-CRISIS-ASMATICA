{
 "cells": [
  {
   "cell_type": "code",
   "execution_count": null,
   "id": "baae460e",
   "metadata": {},
   "outputs": [],
   "source": []
  },
  {
   "cell_type": "code",
   "execution_count": 6,
   "id": "2c2489c6",
   "metadata": {},
   "outputs": [],
   "source": [
    "import pandas as pd\n",
    "import numpy as np"
   ]
  },
  {
   "cell_type": "code",
   "execution_count": 8,
   "id": "2638a0ca",
   "metadata": {},
   "outputs": [
    {
     "data": {
      "text/html": [
       "<div>\n",
       "<style scoped>\n",
       "    .dataframe tbody tr th:only-of-type {\n",
       "        vertical-align: middle;\n",
       "    }\n",
       "\n",
       "    .dataframe tbody tr th {\n",
       "        vertical-align: top;\n",
       "    }\n",
       "\n",
       "    .dataframe thead th {\n",
       "        text-align: right;\n",
       "    }\n",
       "</style>\n",
       "<table border=\"1\" class=\"dataframe\">\n",
       "  <thead>\n",
       "    <tr style=\"text-align: right;\">\n",
       "      <th></th>\n",
       "      <th>BMI</th>\n",
       "      <th>Wheezing</th>\n",
       "      <th>ShortnessOfBreath</th>\n",
       "      <th>ChestTightness</th>\n",
       "      <th>Coughing</th>\n",
       "      <th>Asma</th>\n",
       "    </tr>\n",
       "  </thead>\n",
       "  <tbody>\n",
       "    <tr>\n",
       "      <th>0</th>\n",
       "      <td>15.8</td>\n",
       "      <td>0</td>\n",
       "      <td>0</td>\n",
       "      <td>1</td>\n",
       "      <td>0</td>\n",
       "      <td>0</td>\n",
       "    </tr>\n",
       "    <tr>\n",
       "      <th>1</th>\n",
       "      <td>22.8</td>\n",
       "      <td>1</td>\n",
       "      <td>0</td>\n",
       "      <td>0</td>\n",
       "      <td>1</td>\n",
       "      <td>0</td>\n",
       "    </tr>\n",
       "    <tr>\n",
       "      <th>2</th>\n",
       "      <td>18.4</td>\n",
       "      <td>1</td>\n",
       "      <td>1</td>\n",
       "      <td>1</td>\n",
       "      <td>0</td>\n",
       "      <td>0</td>\n",
       "    </tr>\n",
       "    <tr>\n",
       "      <th>3</th>\n",
       "      <td>38.5</td>\n",
       "      <td>1</td>\n",
       "      <td>0</td>\n",
       "      <td>1</td>\n",
       "      <td>1</td>\n",
       "      <td>0</td>\n",
       "    </tr>\n",
       "    <tr>\n",
       "      <th>4</th>\n",
       "      <td>19.3</td>\n",
       "      <td>1</td>\n",
       "      <td>1</td>\n",
       "      <td>1</td>\n",
       "      <td>0</td>\n",
       "      <td>0</td>\n",
       "    </tr>\n",
       "  </tbody>\n",
       "</table>\n",
       "</div>"
      ],
      "text/plain": [
       "    BMI  Wheezing  ShortnessOfBreath  ChestTightness  Coughing  Asma\n",
       "0  15.8         0                  0               1         0     0\n",
       "1  22.8         1                  0               0         1     0\n",
       "2  18.4         1                  1               1         0     0\n",
       "3  38.5         1                  0               1         1     0\n",
       "4  19.3         1                  1               1         0     0"
      ]
     },
     "execution_count": 8,
     "metadata": {},
     "output_type": "execute_result"
    }
   ],
   "source": [
    "carpeta = r'C:/MODELO-CRISIS-ASMATICA/'\n",
    "archivo = 'dataset_asma_balanceado.csv'\n",
    "data_set_im=pd.read_csv(carpeta+archivo,sep=',')\n",
    "data_set_im.head()"
   ]
  },
  {
   "cell_type": "code",
   "execution_count": 75,
   "id": "849b4c20",
   "metadata": {},
   "outputs": [],
   "source": [
    "data_set_im.loc[\n",
    "    (data_set_im['Wheezing'] == 1) &\n",
    "    (data_set_im['ShortnessOfBreath'] == 1) &\n",
    "    (data_set_im['ChestTightness'] == 1) &\n",
    "    (data_set_im['Coughing'] == 1),\n",
    "    'Asma'\n",
    "] = 1\n",
    "\n",
    "data_set_im.loc[\n",
    "    (data_set_im['BMI'] < 25 ) &\n",
    "    (data_set_im['Wheezing'] == 0) &\n",
    "    (data_set_im['ShortnessOfBreath'] == 1) &\n",
    "    (data_set_im['ChestTightness'] == 0) &\n",
    "    (data_set_im['Coughing'] == 0),\n",
    "    'Asma'\n",
    "] = 0\n",
    "\n",
    "data_set_im.loc[\n",
    "    (data_set_im['BMI'] < 25 ) &\n",
    "    (data_set_im['Wheezing'] == 0) &\n",
    "    (data_set_im['ShortnessOfBreath'] == 0) &\n",
    "    (data_set_im['ChestTightness'] == 0) &\n",
    "    (data_set_im['Coughing'] == 1),\n",
    "    'Asma'\n",
    "] = 0\n",
    "\n",
    "data_set_im.loc[\n",
    "    (data_set_im['Wheezing'] == 0) &\n",
    "    (data_set_im['ShortnessOfBreath'] == 0) &\n",
    "    (data_set_im['ChestTightness'] == 1) &\n",
    "    (data_set_im['Coughing'] == 0) ,\n",
    "    'Asma'\n",
    "] = 0\n",
    "\n",
    "data_set_im.loc[\n",
    "    (data_set_im['Wheezing'] == 1) &\n",
    "    (data_set_im['ShortnessOfBreath'] == 0) &\n",
    "    (data_set_im['ChestTightness'] == 0) &\n",
    "    (data_set_im['Coughing'] == 0) ,\n",
    "    'Asma'\n",
    "] = 0\n",
    "\n",
    "data_set_im.loc[\n",
    "    (data_set_im['Wheezing'] == 1) &\n",
    "    (data_set_im['ShortnessOfBreath'] == 0) &\n",
    "    (data_set_im['ChestTightness'] == 1) &\n",
    "    (data_set_im['Coughing'] == 0) ,\n",
    "    'Asma'\n",
    "] = 1\n",
    "\n",
    "data_set_im.loc[\n",
    "    (data_set_im['Wheezing'] == 0) &\n",
    "    (data_set_im['ShortnessOfBreath'] == 0) &\n",
    "    (data_set_im['ChestTightness'] == 0) &\n",
    "    (data_set_im['Coughing'] == 1) ,\n",
    "    'Asma'\n",
    "] = 0\n",
    "\n",
    "data_set_im.loc[\n",
    "    (data_set_im['Wheezing'] == 0) &\n",
    "    (data_set_im['ShortnessOfBreath'] == 1) &\n",
    "    (data_set_im['ChestTightness'] == 0) &\n",
    "    (data_set_im['Coughing'] == 0) ,\n",
    "    'Asma'\n",
    "] = 0\n",
    "data_set_im.loc[\n",
    "    (data_set_im['Wheezing'] == 0) &\n",
    "    (data_set_im['ShortnessOfBreath'] == 1) &\n",
    "    (data_set_im['ChestTightness'] == 1) &\n",
    "    (data_set_im['Coughing'] == 1) ,\n",
    "    'Asma'\n",
    "] = 1\n",
    "data_set_im.loc[\n",
    "    (data_set_im['Wheezing'] == 1) &\n",
    "    (data_set_im['ShortnessOfBreath'] == 1) &\n",
    "    (data_set_im['ChestTightness'] == 1) &\n",
    "    (data_set_im['Coughing'] == 0) ,\n",
    "    'Asma'\n",
    "] = 1"
   ]
  },
  {
   "cell_type": "markdown",
   "id": "30ec2d84",
   "metadata": {},
   "source": [
    "PENDIENTE"
   ]
  },
  {
   "cell_type": "code",
   "execution_count": 39,
   "id": "3117e24a",
   "metadata": {},
   "outputs": [
    {
     "name": "stdout",
     "output_type": "stream",
     "text": [
      "Empty DataFrame\n",
      "Columns: [BMI, Wheezing, ShortnessOfBreath, ChestTightness, Coughing, Asma]\n",
      "Index: []\n"
     ]
    }
   ],
   "source": [
    "\n",
    "print(data_set_im[\n",
    "    (data_set_im['Wheezing'] == 1) &\n",
    "    (data_set_im['ShortnessOfBreath'] == 0) &\n",
    "    (data_set_im['ChestTightness'] == 0) &\n",
    "    (data_set_im['Coughing'] == 0) &\n",
    "    (data_set_im['Asma'] == 1)\n",
    "    ].head(20))"
   ]
  },
  {
   "cell_type": "code",
   "execution_count": 74,
   "id": "0c2a7c38",
   "metadata": {},
   "outputs": [
    {
     "name": "stdout",
     "output_type": "stream",
     "text": [
      "      BMI  Wheezing  ShortnessOfBreath  ChestTightness  Coughing  Asma\n",
      "5    21.8         1                  0               1         0     1\n",
      "24   29.7         1                  0               1         0     1\n",
      "26   22.4         1                  0               1         0     1\n",
      "46   17.3         1                  0               1         0     1\n",
      "58   27.2         1                  0               1         0     1\n",
      "67   17.9         1                  0               1         0     1\n",
      "101  18.2         1                  0               1         0     1\n",
      "102  18.6         1                  0               1         0     1\n",
      "132  32.3         1                  0               1         0     1\n",
      "135  20.8         1                  0               1         0     1\n",
      "136  37.1         1                  0               1         0     1\n",
      "178  33.2         1                  0               1         0     1\n",
      "189  26.4         1                  0               1         0     1\n",
      "203  26.5         1                  0               1         0     1\n",
      "252  21.6         1                  0               1         0     1\n",
      "270  16.0         1                  0               1         0     1\n",
      "272  35.1         1                  0               1         0     1\n",
      "279  29.5         1                  0               1         0     1\n",
      "293  22.5         1                  0               1         0     1\n",
      "311  18.5         1                  0               1         0     1\n"
     ]
    }
   ],
   "source": [
    "print(data_set_im[\n",
    "    (data_set_im['Wheezing'] == 1) &\n",
    "    (data_set_im['ShortnessOfBreath'] == 0) &\n",
    "    (data_set_im['ChestTightness'] == 1) &\n",
    "    (data_set_im['Coughing'] == 0) &\n",
    "    (data_set_im['Asma'] == 1)\n",
    "    ].head(20))"
   ]
  },
  {
   "cell_type": "code",
   "execution_count": 76,
   "id": "40123f1e",
   "metadata": {},
   "outputs": [
    {
     "name": "stdout",
     "output_type": "stream",
     "text": [
      "Se exportó el dataset\n"
     ]
    }
   ],
   "source": [
    "# Exportación del dataset limpio\n",
    "data_set_im.to_csv(\"dataset_clean_asma_dos.csv\",sep=\",\")\n",
    "print(\"Se exportó el dataset\")"
   ]
  },
  {
   "cell_type": "markdown",
   "id": "2e3bc3a7",
   "metadata": {},
   "source": [
    "***ENTRENAMIENTO MODELO MACHINE LEARNING***"
   ]
  },
  {
   "cell_type": "code",
   "execution_count": 77,
   "id": "e9fc409d",
   "metadata": {},
   "outputs": [],
   "source": [
    "# LIBRERIAS PARA VISUALIZAR LA INFORMACIÓN\n",
    "import seaborn as sns\n",
    "import matplotlib.pyplot as plt"
   ]
  },
  {
   "cell_type": "code",
   "execution_count": 78,
   "id": "5b81f0eb",
   "metadata": {},
   "outputs": [],
   "source": [
    "#Libreria para medir el tiempo de entrenamiento de los modelos de ML\n",
    "import time\n",
    "#Libreria para la distribucion de los datos balanceados en datos de entrenamiento y prueba\n",
    "from sklearn.model_selection import train_test_split\n",
    "##LIBRERIAS PARA IMPORTAR LOS ALGORITMOS\n",
    "#libreria para utilizar el Algoritmo Logistical Regresion\n",
    "from sklearn.linear_model import LogisticRegression\n",
    "#libreria para utilizar el Algoritmo Random Forest\n",
    "from sklearn.ensemble import RandomForestClassifier\n",
    "#libreria para utilizar el Algoritmo KNN\n",
    "from sklearn.neighbors import KNeighborsClassifier\n",
    "#libreria para utilizar el Algoritmo Decision Tree\n",
    "from sklearn.tree import DecisionTreeClassifier\n",
    "#libreria para utilizar el Algoritmo XGBoost\n",
    "from xgboost import XGBClassifier\n",
    "#libreria para utilizar el Algoritmo AdaBoost\n",
    "from sklearn.ensemble import AdaBoostClassifier\n",
    "#Libreria para utilizar el Algoritmo  Naive Bayes\n",
    "from sklearn.naive_bayes import GaussianNB\n",
    "#Libreria para utilizar el Algoritmo  Support Vector Regression\n",
    "from sklearn.svm import SVR"
   ]
  },
  {
   "cell_type": "code",
   "execution_count": 79,
   "id": "4a7e15c6",
   "metadata": {},
   "outputs": [],
   "source": [
    "# LIBRERÍAS QUE MEDIRAN EL RENDIMIENTO DE LOS MODELOS ML\n",
    "#ACURRACY: EXACTITUD\n",
    "#PRECISION: PRECISION\n",
    "#RECALL: SENSIBILIDAD\n",
    "#F1 SCORE: PUNTUACION F1\n",
    "#AUC ROC\n",
    "#CONFUSION_MATRIX: CALCULAR ESPECIFICIDAD\n",
    "from sklearn.metrics import accuracy_score, precision_score, recall_score, f1_score, confusion_matrix\n",
    "from sklearn.metrics import mean_squared_error, mean_absolute_error, r2_score\n",
    "from sklearn.metrics import roc_curve, auc\n",
    "from sklearn.model_selection import cross_val_score"
   ]
  },
  {
   "cell_type": "code",
   "execution_count": 80,
   "id": "2001000f",
   "metadata": {},
   "outputs": [
    {
     "data": {
      "text/html": [
       "<div>\n",
       "<style scoped>\n",
       "    .dataframe tbody tr th:only-of-type {\n",
       "        vertical-align: middle;\n",
       "    }\n",
       "\n",
       "    .dataframe tbody tr th {\n",
       "        vertical-align: top;\n",
       "    }\n",
       "\n",
       "    .dataframe thead th {\n",
       "        text-align: right;\n",
       "    }\n",
       "</style>\n",
       "<table border=\"1\" class=\"dataframe\">\n",
       "  <thead>\n",
       "    <tr style=\"text-align: right;\">\n",
       "      <th></th>\n",
       "      <th>Unnamed: 0</th>\n",
       "      <th>BMI</th>\n",
       "      <th>Wheezing</th>\n",
       "      <th>ShortnessOfBreath</th>\n",
       "      <th>ChestTightness</th>\n",
       "      <th>Coughing</th>\n",
       "      <th>Asma</th>\n",
       "    </tr>\n",
       "  </thead>\n",
       "  <tbody>\n",
       "    <tr>\n",
       "      <th>0</th>\n",
       "      <td>0</td>\n",
       "      <td>15.8</td>\n",
       "      <td>0</td>\n",
       "      <td>0</td>\n",
       "      <td>1</td>\n",
       "      <td>0</td>\n",
       "      <td>0</td>\n",
       "    </tr>\n",
       "    <tr>\n",
       "      <th>1</th>\n",
       "      <td>1</td>\n",
       "      <td>22.8</td>\n",
       "      <td>1</td>\n",
       "      <td>0</td>\n",
       "      <td>0</td>\n",
       "      <td>1</td>\n",
       "      <td>0</td>\n",
       "    </tr>\n",
       "    <tr>\n",
       "      <th>2</th>\n",
       "      <td>2</td>\n",
       "      <td>18.4</td>\n",
       "      <td>1</td>\n",
       "      <td>1</td>\n",
       "      <td>1</td>\n",
       "      <td>0</td>\n",
       "      <td>1</td>\n",
       "    </tr>\n",
       "    <tr>\n",
       "      <th>3</th>\n",
       "      <td>3</td>\n",
       "      <td>38.5</td>\n",
       "      <td>1</td>\n",
       "      <td>0</td>\n",
       "      <td>1</td>\n",
       "      <td>1</td>\n",
       "      <td>0</td>\n",
       "    </tr>\n",
       "    <tr>\n",
       "      <th>4</th>\n",
       "      <td>4</td>\n",
       "      <td>19.3</td>\n",
       "      <td>1</td>\n",
       "      <td>1</td>\n",
       "      <td>1</td>\n",
       "      <td>0</td>\n",
       "      <td>1</td>\n",
       "    </tr>\n",
       "  </tbody>\n",
       "</table>\n",
       "</div>"
      ],
      "text/plain": [
       "   Unnamed: 0   BMI  Wheezing  ShortnessOfBreath  ChestTightness  Coughing  \\\n",
       "0           0  15.8         0                  0               1         0   \n",
       "1           1  22.8         1                  0               0         1   \n",
       "2           2  18.4         1                  1               1         0   \n",
       "3           3  38.5         1                  0               1         1   \n",
       "4           4  19.3         1                  1               1         0   \n",
       "\n",
       "   Asma  \n",
       "0     0  \n",
       "1     0  \n",
       "2     1  \n",
       "3     0  \n",
       "4     1  "
      ]
     },
     "execution_count": 80,
     "metadata": {},
     "output_type": "execute_result"
    }
   ],
   "source": [
    "# CARGA DEL DATASET LIMPIO\n",
    "archivo_dataset_limpio = \"dataset_clean_asma_dos.csv\"\n",
    "data_set_im=pd.read_csv(carpeta+archivo_dataset_limpio,sep=\",\")\n",
    "data_set_im.head()"
   ]
  },
  {
   "cell_type": "code",
   "execution_count": 81,
   "id": "91c1b21b",
   "metadata": {},
   "outputs": [
    {
     "data": {
      "text/html": [
       "<div>\n",
       "<style scoped>\n",
       "    .dataframe tbody tr th:only-of-type {\n",
       "        vertical-align: middle;\n",
       "    }\n",
       "\n",
       "    .dataframe tbody tr th {\n",
       "        vertical-align: top;\n",
       "    }\n",
       "\n",
       "    .dataframe thead th {\n",
       "        text-align: right;\n",
       "    }\n",
       "</style>\n",
       "<table border=\"1\" class=\"dataframe\">\n",
       "  <thead>\n",
       "    <tr style=\"text-align: right;\">\n",
       "      <th></th>\n",
       "      <th>BMI</th>\n",
       "      <th>Wheezing</th>\n",
       "      <th>ShortnessOfBreath</th>\n",
       "      <th>ChestTightness</th>\n",
       "      <th>Coughing</th>\n",
       "      <th>Asma</th>\n",
       "    </tr>\n",
       "  </thead>\n",
       "  <tbody>\n",
       "    <tr>\n",
       "      <th>0</th>\n",
       "      <td>15.8</td>\n",
       "      <td>0</td>\n",
       "      <td>0</td>\n",
       "      <td>1</td>\n",
       "      <td>0</td>\n",
       "      <td>0</td>\n",
       "    </tr>\n",
       "    <tr>\n",
       "      <th>1</th>\n",
       "      <td>22.8</td>\n",
       "      <td>1</td>\n",
       "      <td>0</td>\n",
       "      <td>0</td>\n",
       "      <td>1</td>\n",
       "      <td>0</td>\n",
       "    </tr>\n",
       "    <tr>\n",
       "      <th>2</th>\n",
       "      <td>18.4</td>\n",
       "      <td>1</td>\n",
       "      <td>1</td>\n",
       "      <td>1</td>\n",
       "      <td>0</td>\n",
       "      <td>1</td>\n",
       "    </tr>\n",
       "    <tr>\n",
       "      <th>3</th>\n",
       "      <td>38.5</td>\n",
       "      <td>1</td>\n",
       "      <td>0</td>\n",
       "      <td>1</td>\n",
       "      <td>1</td>\n",
       "      <td>0</td>\n",
       "    </tr>\n",
       "    <tr>\n",
       "      <th>4</th>\n",
       "      <td>19.3</td>\n",
       "      <td>1</td>\n",
       "      <td>1</td>\n",
       "      <td>1</td>\n",
       "      <td>0</td>\n",
       "      <td>1</td>\n",
       "    </tr>\n",
       "  </tbody>\n",
       "</table>\n",
       "</div>"
      ],
      "text/plain": [
       "    BMI  Wheezing  ShortnessOfBreath  ChestTightness  Coughing  Asma\n",
       "0  15.8         0                  0               1         0     0\n",
       "1  22.8         1                  0               0         1     0\n",
       "2  18.4         1                  1               1         0     1\n",
       "3  38.5         1                  0               1         1     0\n",
       "4  19.3         1                  1               1         0     1"
      ]
     },
     "execution_count": 81,
     "metadata": {},
     "output_type": "execute_result"
    }
   ],
   "source": [
    "# Seleccionamos columnas necesarias\n",
    "data_set_im = data_set_im[[\"BMI\",\"Wheezing\",\"ShortnessOfBreath\",\"ChestTightness\",\"Coughing\",\"Asma\"]]\n",
    "data_set_im.head()"
   ]
  },
  {
   "cell_type": "code",
   "execution_count": 82,
   "id": "2dd49066",
   "metadata": {},
   "outputs": [],
   "source": [
    "# print(glaucoma_dataset.columns) # Columnas del dataset\n",
    "# x_risk_factors = glaucoma_dataset[['BMI', 'Wheezing', 'ShortnessOfBreath', 'ChestTightness', 'Coughing', 'Asma']]\n",
    "x_risk_factors = data_set_im[['BMI', 'Wheezing', 'ShortnessOfBreath', 'ChestTightness', 'Coughing']]\n",
    "y_target_asma = data_set_im[\"Asma\"]"
   ]
  },
  {
   "cell_type": "markdown",
   "id": "c825998a",
   "metadata": {},
   "source": [
    "RANDOM FORETS"
   ]
  },
  {
   "cell_type": "code",
   "execution_count": 83,
   "id": "a7b3a815",
   "metadata": {},
   "outputs": [
    {
     "name": "stdout",
     "output_type": "stream",
     "text": [
      "TIEMPO DE ENTRENAMIENTO DEL MODELO: 0.3339509963989258\n"
     ]
    }
   ],
   "source": [
    "#1. REALIZAMOS LA DISTRIBUCION DE NUESTROS DATOS BALANCEADOS EN DATOS DE ENTRENAMIENTO, VALIDACION y PRUEBA\n",
    "rf_dataTrain,rf_dataTemp,rf_targetTrain,rf_targetTemp=train_test_split(x_risk_factors,y_target_asma,test_size=0.3,random_state=42)\n",
    "rf_dataVal, rf_dataPrueba,rf_targetVal, rf_targetPrueba = train_test_split(rf_dataTemp,rf_targetTemp, test_size=0.50, random_state=42)\n",
    "#2. ENTRENAMIENTO DEL MODELO RF\n",
    "#A) INICIALIZACION DEL MODELO\n",
    "start_train_time=time.time()\n",
    "modelRF=RandomForestClassifier(random_state=42,criterion='gini',max_features='sqrt',n_estimators=100)\n",
    "modelRF.fit(rf_dataTrain,rf_targetTrain)\n",
    "end_train_time=time.time()\n",
    "time_training_model=(end_train_time-start_train_time)\n",
    "print(f\"TIEMPO DE ENTRENAMIENTO DEL MODELO: {time_training_model}\")"
   ]
  },
  {
   "cell_type": "code",
   "execution_count": 84,
   "id": "ff7d0446",
   "metadata": {},
   "outputs": [
    {
     "name": "stdout",
     "output_type": "stream",
     "text": [
      "**METRICAS DE ENTRENAMIENTO RF:\n",
      "{'Accuracy': 0.9933858267716535, 'Precision': 0.9870609981515711, 'Recall': 1.0, 'F1 score': 0.9934883720930232, 'Specificity': np.float64(0.9866497139224412)}\n",
      "**METRICAS DE VALIDACION RF:\n",
      "{'Accuracy': 0.9838235294117647, 'Precision': 0.9660493827160493, 'Recall': 1.0, 'F1 score': 0.9827315541601256, 'Specificity': np.float64(0.9700272479564033)}\n",
      "**METRICAS DE PRUEBAS RF:\n",
      "{'Accuracy': 0.9838472834067548, 'Precision': 0.9684813753581661, 'Recall': 1.0, 'F1 score': 0.9839883551673945, 'Specificity': np.float64(0.967930029154519)}\n",
      "===================================================================\n",
      "VALIDACION CRUZADA ESTIMACION: [0.98897638 0.96850394 0.97637795 0.96220472 0.97322835]\n",
      "MEDIA VALIDACION CRUZADA ESTIMACION: 0.9738582677165354\n"
     ]
    },
    {
     "data": {
      "image/png": "[encoded data removed]",
      "text/plain": [
       "<Figure size 2400x600 with 7 Axes>"
      ]
     },
     "metadata": {},
     "output_type": "display_data"
    }
   ],
   "source": [
    "# Función para dibujar un mapa de calor de la matriz de confusión\n",
    "def plot_confusion_matrix_nm(ax, cm, labels, title='Confusion Matrix', cmap=plt.cm.Blues):\n",
    "    sns.heatmap(cm, annot=True, fmt='d', cmap=cmap, xticklabels=labels, yticklabels=labels, ax=ax)\n",
    "    ax.set_xlabel('Predicted labels')\n",
    "    ax.set_ylabel('True labels')\n",
    "    ax.set_title(title)\n",
    "\n",
    "# EVALUACIÓN DEL MODELO DE ML RANDOM FOREST\n",
    "def metrics_model_rf(x, y):\n",
    "    predictions = modelRF.predict(x)\n",
    "    accuracy_metric = accuracy_score(y, predictions)\n",
    "    precision_metric = precision_score(y, predictions)\n",
    "    recall_metric = recall_score(y, predictions)\n",
    "    f1_metric = f1_score(y, predictions)\n",
    "    tn, fp, fn, tp = confusion_matrix(y, predictions).ravel()\n",
    "    specificity_metric = tn / (tn + fp)\n",
    "    confusion_mat = confusion_matrix(y, predictions)\n",
    "    return {\n",
    "        'Accuracy': accuracy_metric, \n",
    "        'Precision': precision_metric, \n",
    "        'Recall': recall_metric, \n",
    "        'F1 score': f1_metric, \n",
    "        'Specificity': specificity_metric\n",
    "    }, confusion_mat\n",
    "\n",
    "# Calcular las métricas y matrices de confusión para entrenamiento, validación y pruebas\n",
    "rf_train_results, train_mat_conf_rf = metrics_model_rf(rf_dataTrain, rf_targetTrain)\n",
    "rf_val_results, val_mat_conf_rf = metrics_model_rf(rf_dataVal, rf_targetVal)\n",
    "rf_test_results, test_mat_conf_rf = metrics_model_rf(rf_dataPrueba, rf_targetPrueba)\n",
    "\n",
    "print(f'**METRICAS DE ENTRENAMIENTO RF:\\n{rf_train_results}')\n",
    "print(f'**METRICAS DE VALIDACION RF:\\n{rf_val_results}')\n",
    "print(f'**METRICAS DE PRUEBAS RF:\\n{rf_test_results}')\n",
    "print(\"===================================================================\")\n",
    "# Mostrar los resultados de la validación cruzada\n",
    "print(f\"VALIDACION CRUZADA ESTIMACION: {cross_val_score(modelRF, rf_dataTrain, rf_targetTrain, cv=5)}\")\n",
    "print(f\"MEDIA VALIDACION CRUZADA ESTIMACION: {cross_val_score(modelRF, rf_dataTrain, rf_targetTrain, cv=5).mean()}\")\n",
    "# Etiquetas para las clases (ajusta esto según tu caso)\n",
    "labels = ['Clase 0', 'Clase 1']\n",
    "\n",
    "# Crear una figura con subgráficos en una fila\n",
    "fig, axs = plt.subplots(1, 4, figsize=(24, 6))\n",
    "\n",
    "# Graficar las matrices de confusión en cada subgráfico\n",
    "plot_confusion_matrix_nm(axs[0], train_mat_conf_rf, labels, title='Matriz de Confusión - Entrenamiento')\n",
    "plot_confusion_matrix_nm(axs[1], val_mat_conf_rf, labels, title='Matriz de Confusión - Validación')\n",
    "plot_confusion_matrix_nm(axs[2], test_mat_conf_rf, labels, title='Matriz de Confusión - Pruebas')\n",
    "\n",
    "# Cálculo y gráfica del AUC para el conjunto de pruebas\n",
    "rf_probs = modelRF.predict_proba(rf_dataPrueba)[:, 1]\n",
    "fpr, tpr, thresholds = roc_curve(rf_targetPrueba, rf_probs)\n",
    "roc_auc = auc(fpr, tpr)\n",
    "\n",
    "# Graficar la curva ROC en el cuarto subgráfico\n",
    "axs[3].plot(fpr, tpr, color='darkorange', lw=2, label=f'ROC curve (AUC = {roc_auc:.2f})')\n",
    "axs[3].plot([0, 1], [0, 1], color='navy', lw=2, linestyle='--')\n",
    "axs[3].set_xlim([0.0, 1.0])\n",
    "axs[3].set_ylim([0.0, 1.05])\n",
    "axs[3].set_xlabel('False Positive Rate')\n",
    "axs[3].set_ylabel('True Positive Rate')\n",
    "axs[3].set_title('Curva ROC - Random Forest')\n",
    "axs[3].legend(loc=\"lower right\")\n",
    "\n",
    "# Ajustar el espacio entre los subgráficos\n",
    "plt.tight_layout()\n",
    "plt.show()"
   ]
  },
  {
   "cell_type": "markdown",
   "id": "85491628",
   "metadata": {},
   "source": [
    "GUARDAR EL MODELO PREDICTIVO EN .PKL"
   ]
  },
  {
   "cell_type": "code",
   "execution_count": 85,
   "id": "db255bb2",
   "metadata": {},
   "outputs": [
    {
     "name": "stdout",
     "output_type": "stream",
     "text": [
      "modelo exportado correctamente\n"
     ]
    }
   ],
   "source": [
    "import pickle\n",
    "\n",
    "pickle.dump(modelRF, open('asma_model_dos.pkl', 'wb'))\n",
    "print('modelo exportado correctamente')"
   ]
  }
 ],
 "metadata": {
  "kernelspec": {
   "display_name": "venv",
   "language": "python",
   "name": "python3"
  },
  "language_info": {
   "codemirror_mode": {
    "name": "ipython",
    "version": 3
   },
   "file_extension": ".py",
   "mimetype": "text/x-python",
   "name": "python",
   "nbconvert_exporter": "python",
   "pygments_lexer": "ipython3",
   "version": "3.13.2"
  }
 },
 "nbformat": 4,
 "nbformat_minor": 5
}
